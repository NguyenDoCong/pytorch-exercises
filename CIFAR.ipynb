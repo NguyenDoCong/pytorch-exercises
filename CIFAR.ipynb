{
 "cells": [
  {
   "cell_type": "markdown",
   "id": "5470b32f-10e1-4ec6-9e7c-5f676aac24f2",
   "metadata": {},
   "source": [
    "# 1. Setup"
   ]
  },
  {
   "cell_type": "code",
   "execution_count": 41,
   "id": "1e972c30-431d-4d33-ac78-4303524741ee",
   "metadata": {},
   "outputs": [],
   "source": [
    "import torch\n",
    "from torch import nn\n",
    "import torchvision\n",
    "from torchvision import datasets\n",
    "from torchvision.transforms import ToTensor\n",
    "import matplotlib.pyplot as plt"
   ]
  },
  {
   "cell_type": "markdown",
   "id": "a66d8efd-b918-420a-b84b-04868f80f25e",
   "metadata": {},
   "source": [
    "# 2.Getting data"
   ]
  },
  {
   "cell_type": "code",
   "execution_count": 43,
   "id": "ea75e538-8376-42ff-9b50-49cc005fdff8",
   "metadata": {},
   "outputs": [
    {
     "name": "stdout",
     "output_type": "stream",
     "text": [
      "Image path already exist\n"
     ]
    }
   ],
   "source": [
    "import requests\n",
    "import zipfile\n",
    "from pathlib import Path\n",
    "\n",
    "data_path = Path('data/')\n",
    "image_path = data_path/'CIFAR10'\n",
    "\n",
    "if image_path.is_dir():\n",
    "    print('Image path already exist')\n",
    "else:\n",
    "    image_path.mkdir(parents=True, exist_ok=True)\n",
    "\n",
    "    with open(data_path/'CIFAR10.zip','wb') as f:\n",
    "        request = requests.get('https://github.com/cyizhuo/CIFAR-10-dataset/archive/refs/heads/main.zip')\n",
    "        f.write(request.content)\n",
    "        print('File downloaded')\n",
    "\n",
    "    with zipfile.ZipFile(data_path/'CIFAR10.zip','r') as zip_ref:\n",
    "        zip_ref.extractall(image_path)\n",
    "        print('File extracted')\n"
   ]
  },
  {
   "cell_type": "code",
   "execution_count": 44,
   "id": "ea9bc661-3d01-4f08-9533-6511e1d711e9",
   "metadata": {},
   "outputs": [
    {
     "data": {
      "text/plain": [
       "WindowsPath('data/CIFAR10/CIFAR-10-dataset-main')"
      ]
     },
     "execution_count": 44,
     "metadata": {},
     "output_type": "execute_result"
    }
   ],
   "source": [
    "image_path = data_path/'CIFAR10'/'CIFAR-10-dataset-main'\n",
    "image_path"
   ]
  },
  {
   "cell_type": "code",
   "execution_count": 45,
   "id": "7c8cfd55-6898-489b-91a4-1a13f3a38c2b",
   "metadata": {},
   "outputs": [
    {
     "name": "stdout",
     "output_type": "stream",
     "text": [
      "There are 2 directories and 1 images in data\\CIFAR10\\CIFAR-10-dataset-main\n",
      "There are 10 directories and 0 images in data\\CIFAR10\\CIFAR-10-dataset-main\\test\n",
      "There are 0 directories and 1000 images in data\\CIFAR10\\CIFAR-10-dataset-main\\test\\airplane\n",
      "There are 0 directories and 1000 images in data\\CIFAR10\\CIFAR-10-dataset-main\\test\\automobile\n",
      "There are 0 directories and 1000 images in data\\CIFAR10\\CIFAR-10-dataset-main\\test\\bird\n",
      "There are 0 directories and 1000 images in data\\CIFAR10\\CIFAR-10-dataset-main\\test\\cat\n",
      "There are 0 directories and 1000 images in data\\CIFAR10\\CIFAR-10-dataset-main\\test\\deer\n",
      "There are 0 directories and 1000 images in data\\CIFAR10\\CIFAR-10-dataset-main\\test\\dog\n",
      "There are 0 directories and 1000 images in data\\CIFAR10\\CIFAR-10-dataset-main\\test\\frog\n",
      "There are 0 directories and 1000 images in data\\CIFAR10\\CIFAR-10-dataset-main\\test\\horse\n",
      "There are 0 directories and 1000 images in data\\CIFAR10\\CIFAR-10-dataset-main\\test\\ship\n",
      "There are 0 directories and 1000 images in data\\CIFAR10\\CIFAR-10-dataset-main\\test\\truck\n",
      "There are 10 directories and 0 images in data\\CIFAR10\\CIFAR-10-dataset-main\\train\n",
      "There are 0 directories and 5000 images in data\\CIFAR10\\CIFAR-10-dataset-main\\train\\airplane\n",
      "There are 0 directories and 5000 images in data\\CIFAR10\\CIFAR-10-dataset-main\\train\\automobile\n",
      "There are 0 directories and 5000 images in data\\CIFAR10\\CIFAR-10-dataset-main\\train\\bird\n",
      "There are 0 directories and 5000 images in data\\CIFAR10\\CIFAR-10-dataset-main\\train\\cat\n",
      "There are 0 directories and 5000 images in data\\CIFAR10\\CIFAR-10-dataset-main\\train\\deer\n",
      "There are 0 directories and 5000 images in data\\CIFAR10\\CIFAR-10-dataset-main\\train\\dog\n",
      "There are 0 directories and 5000 images in data\\CIFAR10\\CIFAR-10-dataset-main\\train\\frog\n",
      "There are 0 directories and 5000 images in data\\CIFAR10\\CIFAR-10-dataset-main\\train\\horse\n",
      "There are 0 directories and 5000 images in data\\CIFAR10\\CIFAR-10-dataset-main\\train\\ship\n",
      "There are 0 directories and 5000 images in data\\CIFAR10\\CIFAR-10-dataset-main\\train\\truck\n"
     ]
    }
   ],
   "source": [
    "import os\n",
    "for dir_path, dir_names,file_names in os.walk(image_path):\n",
    "    print(f'There are {len(dir_names)} directories and {len(file_names)} images in {dir_path}')"
   ]
  },
  {
   "cell_type": "code",
   "execution_count": 46,
   "id": "63f345e1-d64c-4bc7-892f-0c4fbc10e81a",
   "metadata": {},
   "outputs": [
    {
     "data": {
      "text/plain": [
       "(WindowsPath('data/CIFAR10/CIFAR-10-dataset-main/train'),\n",
       " WindowsPath('data/CIFAR10/CIFAR-10-dataset-main/test'))"
      ]
     },
     "execution_count": 46,
     "metadata": {},
     "output_type": "execute_result"
    }
   ],
   "source": [
    "train_dir = image_path/'train'\n",
    "test_dir = image_path/'test'\n",
    "train_dir, test_dir"
   ]
  },
  {
   "cell_type": "code",
   "execution_count": 47,
   "id": "30d6b6f0-cf1e-4a6d-beba-738d353306a5",
   "metadata": {},
   "outputs": [
    {
     "name": "stdout",
     "output_type": "stream",
     "text": [
      "Path: data\\CIFAR10\\CIFAR-10-dataset-main\\train\\cat\\cat_s_000275.png\n",
      "Class: cat\n"
     ]
    },
    {
     "data": {
      "image/jpeg": "[encoded data removed]",
      "image/png": "[encoded data removed]",
      "text/plain": [
       "<PIL.PngImagePlugin.PngImageFile image mode=RGB size=32x32>"
      ]
     },
     "execution_count": 47,
     "metadata": {},
     "output_type": "execute_result"
    }
   ],
   "source": [
    "import random\n",
    "from PIL import Image\n",
    "\n",
    "image_path_list = list(image_path.glob('*/*/*.png'))\n",
    "\n",
    "random_image_path = random.choice(image_path_list)\n",
    "image_class = random_image_path.parent.stem\n",
    "\n",
    "img_sample = Image.open(random_image_path)\n",
    "\n",
    "print(f'Path: {random_image_path}')\n",
    "print(f'Class: {image_class}')\n",
    "# print(f'Size: {img.height} x {img.width}')\n",
    "img_sample"
   ]
  },
  {
   "cell_type": "code",
   "execution_count": 48,
   "id": "19690c06-784f-4577-84bf-1454d0b630ce",
   "metadata": {},
   "outputs": [],
   "source": [
    "from torchvision import datasets, transforms\n",
    "from torch.utils.data import DataLoader"
   ]
  },
  {
   "cell_type": "code",
   "execution_count": 49,
   "id": "ddbcd06c-d6d0-40ee-80d7-f16ee39c21a3",
   "metadata": {},
   "outputs": [],
   "source": [
    "data_transform = transforms.Compose([transforms.ToTensor()])"
   ]
  },
  {
   "cell_type": "code",
   "execution_count": 50,
   "id": "bf7a5707-0bdb-4df3-a319-47ba6860f26f",
   "metadata": {},
   "outputs": [
    {
     "name": "stdout",
     "output_type": "stream",
     "text": [
      "Train data: Dataset ImageFolder\n",
      "    Number of datapoints: 50000\n",
      "    Root location: data\\CIFAR10\\CIFAR-10-dataset-main\\train\n",
      "    StandardTransform\n",
      "Transform: Compose(\n",
      "               ToTensor()\n",
      "           ), test data: Dataset ImageFolder\n",
      "    Number of datapoints: 10000\n",
      "    Root location: data\\CIFAR10\\CIFAR-10-dataset-main\\test\n",
      "    StandardTransform\n",
      "Transform: Compose(\n",
      "               ToTensor()\n",
      "           )\n"
     ]
    }
   ],
   "source": [
    "train_data = datasets.ImageFolder(root=train_dir,\n",
    "                                  transform=data_transform,\n",
    "                                  target_transform=None)\n",
    "test_data = datasets.ImageFolder(root=test_dir,\n",
    "                                 transform=data_transform)\n",
    "print(f'Train data: {train_data}, test data: {test_data}')"
   ]
  },
  {
   "cell_type": "code",
   "execution_count": 51,
   "id": "b0ac2076-2453-48d3-b07e-d97c2105aac6",
   "metadata": {},
   "outputs": [
    {
     "data": {
      "text/plain": [
       "['airplane',\n",
       " 'automobile',\n",
       " 'bird',\n",
       " 'cat',\n",
       " 'deer',\n",
       " 'dog',\n",
       " 'frog',\n",
       " 'horse',\n",
       " 'ship',\n",
       " 'truck']"
      ]
     },
     "execution_count": 51,
     "metadata": {},
     "output_type": "execute_result"
    }
   ],
   "source": [
    "class_names = train_data.classes\n",
    "class_names"
   ]
  },
  {
   "cell_type": "code",
   "execution_count": 52,
   "id": "f7f4151e-a784-43e1-84fd-58608d7ea306",
   "metadata": {},
   "outputs": [
    {
     "name": "stdout",
     "output_type": "stream",
     "text": [
      "Image: tensor([[[0.7961, 0.7882, 0.8471,  ..., 0.8824, 0.8824, 0.8902],\n",
      "         [0.4471, 0.7059, 0.9098,  ..., 0.9529, 0.9490, 0.9451],\n",
      "         [0.2118, 0.4941, 0.8980,  ..., 0.9804, 0.9765, 0.9725],\n",
      "         ...,\n",
      "         [0.2667, 0.2078, 0.2078,  ..., 0.2667, 0.2549, 0.2588],\n",
      "         [0.2588, 0.2078, 0.2078,  ..., 0.2941, 0.3294, 0.3412],\n",
      "         [0.1647, 0.1608, 0.1804,  ..., 0.3412, 0.3647, 0.3725]],\n",
      "\n",
      "        [[0.8039, 0.8627, 0.8510,  ..., 0.9098, 0.9098, 0.9176],\n",
      "         [0.4039, 0.7490, 0.9059,  ..., 0.9725, 0.9686, 0.9686],\n",
      "         [0.1098, 0.5020, 0.8941,  ..., 0.9882, 0.9843, 0.9843],\n",
      "         ...,\n",
      "         [0.2588, 0.2000, 0.2039,  ..., 0.2353, 0.2353, 0.2510],\n",
      "         [0.2588, 0.2118, 0.2118,  ..., 0.2784, 0.3059, 0.3176],\n",
      "         [0.1765, 0.1725, 0.1961,  ..., 0.3373, 0.3451, 0.3412]],\n",
      "\n",
      "        [[0.8588, 0.9176, 0.9686,  ..., 0.9725, 0.9765, 0.9843],\n",
      "         [0.4118, 0.7608, 0.9961,  ..., 0.9961, 0.9882, 0.9804],\n",
      "         [0.0784, 0.4706, 0.9529,  ..., 0.9843, 0.9725, 0.9647],\n",
      "         ...,\n",
      "         [0.1804, 0.1137, 0.1059,  ..., 0.1294, 0.1373, 0.1608],\n",
      "         [0.1843, 0.1294, 0.1216,  ..., 0.1843, 0.2078, 0.2078],\n",
      "         [0.1137, 0.1020, 0.1176,  ..., 0.2549, 0.2549, 0.2196]]])\n",
      "Shape: torch.Size([3, 32, 32])\n",
      "Type: torch.float32\n",
      "Label: 0\n"
     ]
    }
   ],
   "source": [
    "img, label = train_data[0][0], train_data[0][1]\n",
    "print(f'Image: {img}')\n",
    "print(f'Shape: {img.shape}')\n",
    "print(f'Type: {img.dtype}')\n",
    "print(f'Label: {label}')\n"
   ]
  },
  {
   "cell_type": "code",
   "execution_count": 53,
   "id": "d166f7a2-cd1e-4146-b778-f02d97d0a85a",
   "metadata": {},
   "outputs": [
    {
     "data": {
      "text/plain": [
       "Text(0.5, 1.0, 'airplane')"
      ]
     },
     "execution_count": 53,
     "metadata": {},
     "output_type": "execute_result"
    },
    {
     "data": {
      "image/png": "[encoded data removed]",
      "text/plain": [
       "<Figure size 1000x700 with 1 Axes>"
      ]
     },
     "metadata": {},
     "output_type": "display_data"
    }
   ],
   "source": [
    "plt.figure(figsize=(10,7))\n",
    "plt.imshow(img.permute(1,2,0))\n",
    "plt.axis('off')\n",
    "plt.title(class_names[label])"
   ]
  },
  {
   "cell_type": "code",
   "execution_count": 54,
   "id": "bb290981-2c95-4c90-850b-62272a5362dc",
   "metadata": {},
   "outputs": [
    {
     "data": {
      "text/plain": [
       "(Dataset ImageFolder\n",
       "     Number of datapoints: 50000\n",
       "     Root location: data\\CIFAR10\\CIFAR-10-dataset-main\\train\n",
       "     StandardTransform\n",
       " Transform: Compose(\n",
       "                ToTensor()\n",
       "            ),\n",
       " Dataset ImageFolder\n",
       "     Number of datapoints: 10000\n",
       "     Root location: data\\CIFAR10\\CIFAR-10-dataset-main\\test\n",
       "     StandardTransform\n",
       " Transform: Compose(\n",
       "                ToTensor()\n",
       "            ))"
      ]
     },
     "execution_count": 54,
     "metadata": {},
     "output_type": "execute_result"
    }
   ],
   "source": [
    "NUM_WORKERS = os.cpu_count()\n",
    "\n",
    "train_dataloader = DataLoader(dataset = train_data,\n",
    "                              shuffle=True,\n",
    "                              batch_size=4,\n",
    "                              num_workers=NUM_WORKERS)\n",
    "test_dataloader = DataLoader(dataset= test_data,\n",
    "                             batch_size=4,\n",
    "                             num_workers=NUM_WORKERS,\n",
    "                             shuffle=False)\n",
    "train_data, test_data"
   ]
  },
  {
   "cell_type": "code",
   "execution_count": 55,
   "id": "f928646a-de88-417d-9a0e-8ebd98524d48",
   "metadata": {},
   "outputs": [
    {
     "name": "stdout",
     "output_type": "stream",
     "text": [
      "Image shape:torch.Size([4, 3, 32, 32])\n"
     ]
    }
   ],
   "source": [
    "img, label =next(iter(train_dataloader))\n",
    "print(f'Image shape:{img.shape}')"
   ]
  },
  {
   "cell_type": "code",
   "execution_count": 56,
   "id": "12c45b82-4008-486d-9bb7-44e199c27bb2",
   "metadata": {},
   "outputs": [
    {
     "data": {
      "text/plain": [
       "ResNet(\n",
       "  (conv1): Conv2d(3, 64, kernel_size=(7, 7), stride=(2, 2), padding=(3, 3), bias=False)\n",
       "  (bn1): BatchNorm2d(64, eps=1e-05, momentum=0.1, affine=True, track_running_stats=True)\n",
       "  (relu): ReLU(inplace=True)\n",
       "  (maxpool): MaxPool2d(kernel_size=3, stride=2, padding=1, dilation=1, ceil_mode=False)\n",
       "  (layer1): Sequential(\n",
       "    (0): BasicBlock(\n",
       "      (conv1): Conv2d(64, 64, kernel_size=(3, 3), stride=(1, 1), padding=(1, 1), bias=False)\n",
       "      (bn1): BatchNorm2d(64, eps=1e-05, momentum=0.1, affine=True, track_running_stats=True)\n",
       "      (relu): ReLU(inplace=True)\n",
       "      (conv2): Conv2d(64, 64, kernel_size=(3, 3), stride=(1, 1), padding=(1, 1), bias=False)\n",
       "      (bn2): BatchNorm2d(64, eps=1e-05, momentum=0.1, affine=True, track_running_stats=True)\n",
       "    )\n",
       "    (1): BasicBlock(\n",
       "      (conv1): Conv2d(64, 64, kernel_size=(3, 3), stride=(1, 1), padding=(1, 1), bias=False)\n",
       "      (bn1): BatchNorm2d(64, eps=1e-05, momentum=0.1, affine=True, track_running_stats=True)\n",
       "      (relu): ReLU(inplace=True)\n",
       "      (conv2): Conv2d(64, 64, kernel_size=(3, 3), stride=(1, 1), padding=(1, 1), bias=False)\n",
       "      (bn2): BatchNorm2d(64, eps=1e-05, momentum=0.1, affine=True, track_running_stats=True)\n",
       "    )\n",
       "  )\n",
       "  (layer2): Sequential(\n",
       "    (0): BasicBlock(\n",
       "      (conv1): Conv2d(64, 128, kernel_size=(3, 3), stride=(2, 2), padding=(1, 1), bias=False)\n",
       "      (bn1): BatchNorm2d(128, eps=1e-05, momentum=0.1, affine=True, track_running_stats=True)\n",
       "      (relu): ReLU(inplace=True)\n",
       "      (conv2): Conv2d(128, 128, kernel_size=(3, 3), stride=(1, 1), padding=(1, 1), bias=False)\n",
       "      (bn2): BatchNorm2d(128, eps=1e-05, momentum=0.1, affine=True, track_running_stats=True)\n",
       "      (downsample): Sequential(\n",
       "        (0): Conv2d(64, 128, kernel_size=(1, 1), stride=(2, 2), bias=False)\n",
       "        (1): BatchNorm2d(128, eps=1e-05, momentum=0.1, affine=True, track_running_stats=True)\n",
       "      )\n",
       "    )\n",
       "    (1): BasicBlock(\n",
       "      (conv1): Conv2d(128, 128, kernel_size=(3, 3), stride=(1, 1), padding=(1, 1), bias=False)\n",
       "      (bn1): BatchNorm2d(128, eps=1e-05, momentum=0.1, affine=True, track_running_stats=True)\n",
       "      (relu): ReLU(inplace=True)\n",
       "      (conv2): Conv2d(128, 128, kernel_size=(3, 3), stride=(1, 1), padding=(1, 1), bias=False)\n",
       "      (bn2): BatchNorm2d(128, eps=1e-05, momentum=0.1, affine=True, track_running_stats=True)\n",
       "    )\n",
       "  )\n",
       "  (layer3): Sequential(\n",
       "    (0): BasicBlock(\n",
       "      (conv1): Conv2d(128, 256, kernel_size=(3, 3), stride=(2, 2), padding=(1, 1), bias=False)\n",
       "      (bn1): BatchNorm2d(256, eps=1e-05, momentum=0.1, affine=True, track_running_stats=True)\n",
       "      (relu): ReLU(inplace=True)\n",
       "      (conv2): Conv2d(256, 256, kernel_size=(3, 3), stride=(1, 1), padding=(1, 1), bias=False)\n",
       "      (bn2): BatchNorm2d(256, eps=1e-05, momentum=0.1, affine=True, track_running_stats=True)\n",
       "      (downsample): Sequential(\n",
       "        (0): Conv2d(128, 256, kernel_size=(1, 1), stride=(2, 2), bias=False)\n",
       "        (1): BatchNorm2d(256, eps=1e-05, momentum=0.1, affine=True, track_running_stats=True)\n",
       "      )\n",
       "    )\n",
       "    (1): BasicBlock(\n",
       "      (conv1): Conv2d(256, 256, kernel_size=(3, 3), stride=(1, 1), padding=(1, 1), bias=False)\n",
       "      (bn1): BatchNorm2d(256, eps=1e-05, momentum=0.1, affine=True, track_running_stats=True)\n",
       "      (relu): ReLU(inplace=True)\n",
       "      (conv2): Conv2d(256, 256, kernel_size=(3, 3), stride=(1, 1), padding=(1, 1), bias=False)\n",
       "      (bn2): BatchNorm2d(256, eps=1e-05, momentum=0.1, affine=True, track_running_stats=True)\n",
       "    )\n",
       "  )\n",
       "  (layer4): Sequential(\n",
       "    (0): BasicBlock(\n",
       "      (conv1): Conv2d(256, 512, kernel_size=(3, 3), stride=(2, 2), padding=(1, 1), bias=False)\n",
       "      (bn1): BatchNorm2d(512, eps=1e-05, momentum=0.1, affine=True, track_running_stats=True)\n",
       "      (relu): ReLU(inplace=True)\n",
       "      (conv2): Conv2d(512, 512, kernel_size=(3, 3), stride=(1, 1), padding=(1, 1), bias=False)\n",
       "      (bn2): BatchNorm2d(512, eps=1e-05, momentum=0.1, affine=True, track_running_stats=True)\n",
       "      (downsample): Sequential(\n",
       "        (0): Conv2d(256, 512, kernel_size=(1, 1), stride=(2, 2), bias=False)\n",
       "        (1): BatchNorm2d(512, eps=1e-05, momentum=0.1, affine=True, track_running_stats=True)\n",
       "      )\n",
       "    )\n",
       "    (1): BasicBlock(\n",
       "      (conv1): Conv2d(512, 512, kernel_size=(3, 3), stride=(1, 1), padding=(1, 1), bias=False)\n",
       "      (bn1): BatchNorm2d(512, eps=1e-05, momentum=0.1, affine=True, track_running_stats=True)\n",
       "      (relu): ReLU(inplace=True)\n",
       "      (conv2): Conv2d(512, 512, kernel_size=(3, 3), stride=(1, 1), padding=(1, 1), bias=False)\n",
       "      (bn2): BatchNorm2d(512, eps=1e-05, momentum=0.1, affine=True, track_running_stats=True)\n",
       "    )\n",
       "  )\n",
       "  (avgpool): AdaptiveAvgPool2d(output_size=(1, 1))\n",
       "  (fc): Linear(in_features=512, out_features=1000, bias=True)\n",
       ")"
      ]
     },
     "execution_count": 56,
     "metadata": {},
     "output_type": "execute_result"
    }
   ],
   "source": [
    "device = 'cuda' if torch.cuda.is_available else 'cpu'\n",
    "wieghts = torchvision.models.ResNet18_Weights.DEFAULT\n",
    "model = torchvision.models.resnet18(weights=wieghts).to(device)\n",
    "model"
   ]
  },
  {
   "cell_type": "code",
   "execution_count": 57,
   "id": "66631a50-c666-4864-8063-ce8457b0993c",
   "metadata": {},
   "outputs": [],
   "source": [
    "output_shape=len(class_names)\n",
    "model.fc = nn.Sequential(\n",
    "    nn.Dropout(p=0.2,inplace=True),\n",
    "    nn.Linear(\n",
    "        in_features=512,\n",
    "        out_features=output_shape,\n",
    "        bias=True)).to(device)"
   ]
  },
  {
   "cell_type": "code",
   "execution_count": 58,
   "id": "15827271-95b7-4ac5-8d84-06eb37d33cd0",
   "metadata": {},
   "outputs": [
    {
     "data": {
      "text/plain": [
       "ResNet(\n",
       "  (conv1): Conv2d(3, 64, kernel_size=(7, 7), stride=(2, 2), padding=(3, 3), bias=False)\n",
       "  (bn1): BatchNorm2d(64, eps=1e-05, momentum=0.1, affine=True, track_running_stats=True)\n",
       "  (relu): ReLU(inplace=True)\n",
       "  (maxpool): MaxPool2d(kernel_size=3, stride=2, padding=1, dilation=1, ceil_mode=False)\n",
       "  (layer1): Sequential(\n",
       "    (0): BasicBlock(\n",
       "      (conv1): Conv2d(64, 64, kernel_size=(3, 3), stride=(1, 1), padding=(1, 1), bias=False)\n",
       "      (bn1): BatchNorm2d(64, eps=1e-05, momentum=0.1, affine=True, track_running_stats=True)\n",
       "      (relu): ReLU(inplace=True)\n",
       "      (conv2): Conv2d(64, 64, kernel_size=(3, 3), stride=(1, 1), padding=(1, 1), bias=False)\n",
       "      (bn2): BatchNorm2d(64, eps=1e-05, momentum=0.1, affine=True, track_running_stats=True)\n",
       "    )\n",
       "    (1): BasicBlock(\n",
       "      (conv1): Conv2d(64, 64, kernel_size=(3, 3), stride=(1, 1), padding=(1, 1), bias=False)\n",
       "      (bn1): BatchNorm2d(64, eps=1e-05, momentum=0.1, affine=True, track_running_stats=True)\n",
       "      (relu): ReLU(inplace=True)\n",
       "      (conv2): Conv2d(64, 64, kernel_size=(3, 3), stride=(1, 1), padding=(1, 1), bias=False)\n",
       "      (bn2): BatchNorm2d(64, eps=1e-05, momentum=0.1, affine=True, track_running_stats=True)\n",
       "    )\n",
       "  )\n",
       "  (layer2): Sequential(\n",
       "    (0): BasicBlock(\n",
       "      (conv1): Conv2d(64, 128, kernel_size=(3, 3), stride=(2, 2), padding=(1, 1), bias=False)\n",
       "      (bn1): BatchNorm2d(128, eps=1e-05, momentum=0.1, affine=True, track_running_stats=True)\n",
       "      (relu): ReLU(inplace=True)\n",
       "      (conv2): Conv2d(128, 128, kernel_size=(3, 3), stride=(1, 1), padding=(1, 1), bias=False)\n",
       "      (bn2): BatchNorm2d(128, eps=1e-05, momentum=0.1, affine=True, track_running_stats=True)\n",
       "      (downsample): Sequential(\n",
       "        (0): Conv2d(64, 128, kernel_size=(1, 1), stride=(2, 2), bias=False)\n",
       "        (1): BatchNorm2d(128, eps=1e-05, momentum=0.1, affine=True, track_running_stats=True)\n",
       "      )\n",
       "    )\n",
       "    (1): BasicBlock(\n",
       "      (conv1): Conv2d(128, 128, kernel_size=(3, 3), stride=(1, 1), padding=(1, 1), bias=False)\n",
       "      (bn1): BatchNorm2d(128, eps=1e-05, momentum=0.1, affine=True, track_running_stats=True)\n",
       "      (relu): ReLU(inplace=True)\n",
       "      (conv2): Conv2d(128, 128, kernel_size=(3, 3), stride=(1, 1), padding=(1, 1), bias=False)\n",
       "      (bn2): BatchNorm2d(128, eps=1e-05, momentum=0.1, affine=True, track_running_stats=True)\n",
       "    )\n",
       "  )\n",
       "  (layer3): Sequential(\n",
       "    (0): BasicBlock(\n",
       "      (conv1): Conv2d(128, 256, kernel_size=(3, 3), stride=(2, 2), padding=(1, 1), bias=False)\n",
       "      (bn1): BatchNorm2d(256, eps=1e-05, momentum=0.1, affine=True, track_running_stats=True)\n",
       "      (relu): ReLU(inplace=True)\n",
       "      (conv2): Conv2d(256, 256, kernel_size=(3, 3), stride=(1, 1), padding=(1, 1), bias=False)\n",
       "      (bn2): BatchNorm2d(256, eps=1e-05, momentum=0.1, affine=True, track_running_stats=True)\n",
       "      (downsample): Sequential(\n",
       "        (0): Conv2d(128, 256, kernel_size=(1, 1), stride=(2, 2), bias=False)\n",
       "        (1): BatchNorm2d(256, eps=1e-05, momentum=0.1, affine=True, track_running_stats=True)\n",
       "      )\n",
       "    )\n",
       "    (1): BasicBlock(\n",
       "      (conv1): Conv2d(256, 256, kernel_size=(3, 3), stride=(1, 1), padding=(1, 1), bias=False)\n",
       "      (bn1): BatchNorm2d(256, eps=1e-05, momentum=0.1, affine=True, track_running_stats=True)\n",
       "      (relu): ReLU(inplace=True)\n",
       "      (conv2): Conv2d(256, 256, kernel_size=(3, 3), stride=(1, 1), padding=(1, 1), bias=False)\n",
       "      (bn2): BatchNorm2d(256, eps=1e-05, momentum=0.1, affine=True, track_running_stats=True)\n",
       "    )\n",
       "  )\n",
       "  (layer4): Sequential(\n",
       "    (0): BasicBlock(\n",
       "      (conv1): Conv2d(256, 512, kernel_size=(3, 3), stride=(2, 2), padding=(1, 1), bias=False)\n",
       "      (bn1): BatchNorm2d(512, eps=1e-05, momentum=0.1, affine=True, track_running_stats=True)\n",
       "      (relu): ReLU(inplace=True)\n",
       "      (conv2): Conv2d(512, 512, kernel_size=(3, 3), stride=(1, 1), padding=(1, 1), bias=False)\n",
       "      (bn2): BatchNorm2d(512, eps=1e-05, momentum=0.1, affine=True, track_running_stats=True)\n",
       "      (downsample): Sequential(\n",
       "        (0): Conv2d(256, 512, kernel_size=(1, 1), stride=(2, 2), bias=False)\n",
       "        (1): BatchNorm2d(512, eps=1e-05, momentum=0.1, affine=True, track_running_stats=True)\n",
       "      )\n",
       "    )\n",
       "    (1): BasicBlock(\n",
       "      (conv1): Conv2d(512, 512, kernel_size=(3, 3), stride=(1, 1), padding=(1, 1), bias=False)\n",
       "      (bn1): BatchNorm2d(512, eps=1e-05, momentum=0.1, affine=True, track_running_stats=True)\n",
       "      (relu): ReLU(inplace=True)\n",
       "      (conv2): Conv2d(512, 512, kernel_size=(3, 3), stride=(1, 1), padding=(1, 1), bias=False)\n",
       "      (bn2): BatchNorm2d(512, eps=1e-05, momentum=0.1, affine=True, track_running_stats=True)\n",
       "    )\n",
       "  )\n",
       "  (avgpool): AdaptiveAvgPool2d(output_size=(1, 1))\n",
       "  (fc): Sequential(\n",
       "    (0): Dropout(p=0.2, inplace=True)\n",
       "    (1): Linear(in_features=512, out_features=10, bias=True)\n",
       "  )\n",
       ")"
      ]
     },
     "execution_count": 58,
     "metadata": {},
     "output_type": "execute_result"
    }
   ],
   "source": [
    "model"
   ]
  },
  {
   "cell_type": "code",
   "execution_count": 59,
   "id": "608459c6-0d10-45cb-b4aa-1a1382a998ce",
   "metadata": {},
   "outputs": [],
   "source": [
    "loss_fn = nn.CrossEntropyLoss()\n",
    "optimizer = torch.optim.AdamW(params=model.parameters(),lr=0.001)"
   ]
  },
  {
   "cell_type": "code",
   "execution_count": 60,
   "id": "03528aff-9d0a-4b43-b12d-246b78eea21d",
   "metadata": {},
   "outputs": [],
   "source": [
    "def train_step(model, dataloader, loss_fn, optimizer):\n",
    "    model.train()\n",
    "\n",
    "    train_loss =0\n",
    "    train_acc = 0\n",
    "    for batch, (X,y) in enumerate(dataloader):\n",
    "        X,y = X.to(device), y.to(device)\n",
    "        y_logits=model(X)\n",
    "        y_prob=torch.softmax(y_logits,dim=1)\n",
    "        y_label=torch.argmax(y_prob,dim=1)\n",
    "        \n",
    "        loss = loss_fn(y_logits,y)\n",
    "        train_acc += (y==y_label).sum().item()/len(y_label)\n",
    "        train_loss += loss.item()\n",
    "\n",
    "        optimizer.zero_grad()\n",
    "        loss.backward()\n",
    "        optimizer.step()\n",
    "\n",
    "        if batch%400==0:\n",
    "            print(f'Looked at: {batch*len(X)}/{len(train_dataloader.dataset)} samples')\n",
    "\n",
    "    train_loss /= len(dataloader)\n",
    "    train_acc /= len(dataloader)\n",
    "    return train_loss,train_acc\n",
    "    "
   ]
  },
  {
   "cell_type": "code",
   "execution_count": 61,
   "id": "946e6f70-4bb0-438f-8562-ef1bcf10398f",
   "metadata": {},
   "outputs": [],
   "source": [
    "def test_step(model, dataloader,loss_fn):\n",
    "    model.eval()\n",
    "    test_loss=0\n",
    "    test_acc=0\n",
    "    with torch.inference_mode():\n",
    "        for batch, (X,y) in enumerate(dataloader):\n",
    "            X,y=X.to(device),y.to(device)\n",
    "            y_logits=model(X)\n",
    "            y_prob=torch.softmax(y_logits,dim=1)\n",
    "            y_label=torch.argmax(y_prob,dim=1)\n",
    "\n",
    "            loss=loss_fn(y_logits,y)\n",
    "            test_loss += loss.item()\n",
    "            test_acc += (y_label==y).sum().item()/len(y_label)\n",
    "    test_loss /= len(dataloader)\n",
    "    test_acc/=len(dataloader)\n",
    "    return test_loss, test_acc"
   ]
  },
  {
   "cell_type": "code",
   "execution_count": 62,
   "id": "eee39a9c-bd4a-4df3-b98e-dcdd2f6c6ba9",
   "metadata": {},
   "outputs": [],
   "source": [
    "from tqdm.auto import tqdm\n",
    "def train(model, train_dataloader, test_dataloader, loss_fn, optimizer, epochs=5):\n",
    "    results = {'train_loss':[],'train_acc':[],'test_loss':[],'test_acc':[]}\n",
    "    for epoch in tqdm(range(epochs)):\n",
    "        train_loss, train_acc=train_step(model,train_dataloader,loss_fn,optimizer)\n",
    "        test_loss,test_acc=test_step(model, test_dataloader,loss_fn)\n",
    "        print(f'Epoch: {epoch+1}, train loss: {train_loss}, train acc: {train_acc}%, test loss:{test_loss}, test acc: {test_acc}%')\n",
    "        results['train_loss'].append(train_loss.item() if isinstance(train_loss, torch.Tensor) else train_loss)\n",
    "        results['test_loss'].append(test_loss)\n",
    "        results['train_acc'].append(train_acc)\n",
    "        results['test_acc'].append(test_acc)\n",
    "    return results"
   ]
  },
  {
   "cell_type": "code",
   "execution_count": 63,
   "id": "5de26ff5-65b9-45c3-8ed0-d1d72a3760fa",
   "metadata": {},
   "outputs": [
    {
     "data": {
      "application/vnd.jupyter.widget-view+json": {
       "model_id": "02b5c890b5f74853bbfcdc9bc8bd60bd",
       "version_major": 2,
       "version_minor": 0
      },
      "text/plain": [
       "  0%|          | 0/5 [00:00<?, ?it/s]"
      ]
     },
     "metadata": {},
     "output_type": "display_data"
    },
    {
     "name": "stdout",
     "output_type": "stream",
     "text": [
      "Looked at: 0/50000 samples\n",
      "Looked at: 1600/50000 samples\n",
      "Looked at: 3200/50000 samples\n",
      "Looked at: 4800/50000 samples\n",
      "Looked at: 6400/50000 samples\n",
      "Looked at: 8000/50000 samples\n",
      "Looked at: 9600/50000 samples\n",
      "Looked at: 11200/50000 samples\n",
      "Looked at: 12800/50000 samples\n",
      "Looked at: 14400/50000 samples\n",
      "Looked at: 16000/50000 samples\n",
      "Looked at: 17600/50000 samples\n",
      "Looked at: 19200/50000 samples\n",
      "Looked at: 20800/50000 samples\n",
      "Looked at: 22400/50000 samples\n",
      "Looked at: 24000/50000 samples\n",
      "Looked at: 25600/50000 samples\n",
      "Looked at: 27200/50000 samples\n",
      "Looked at: 28800/50000 samples\n",
      "Looked at: 30400/50000 samples\n",
      "Looked at: 32000/50000 samples\n",
      "Looked at: 33600/50000 samples\n",
      "Looked at: 35200/50000 samples\n",
      "Looked at: 36800/50000 samples\n",
      "Looked at: 38400/50000 samples\n",
      "Looked at: 40000/50000 samples\n",
      "Looked at: 41600/50000 samples\n",
      "Looked at: 43200/50000 samples\n",
      "Looked at: 44800/50000 samples\n",
      "Looked at: 46400/50000 samples\n",
      "Looked at: 48000/50000 samples\n",
      "Looked at: 49600/50000 samples\n",
      "Epoch: 1, train loss: 2.3572657360982894, train acc: 0.14988%, test loss:4.903099835371971, test acc: 0.2031%\n",
      "Looked at: 0/50000 samples\n",
      "Looked at: 1600/50000 samples\n",
      "Looked at: 3200/50000 samples\n",
      "Looked at: 4800/50000 samples\n",
      "Looked at: 6400/50000 samples\n",
      "Looked at: 8000/50000 samples\n",
      "Looked at: 9600/50000 samples\n",
      "Looked at: 11200/50000 samples\n",
      "Looked at: 12800/50000 samples\n",
      "Looked at: 14400/50000 samples\n",
      "Looked at: 16000/50000 samples\n",
      "Looked at: 17600/50000 samples\n",
      "Looked at: 19200/50000 samples\n",
      "Looked at: 20800/50000 samples\n",
      "Looked at: 22400/50000 samples\n",
      "Looked at: 24000/50000 samples\n",
      "Looked at: 25600/50000 samples\n",
      "Looked at: 27200/50000 samples\n",
      "Looked at: 28800/50000 samples\n",
      "Looked at: 30400/50000 samples\n",
      "Looked at: 32000/50000 samples\n",
      "Looked at: 33600/50000 samples\n",
      "Looked at: 35200/50000 samples\n",
      "Looked at: 36800/50000 samples\n",
      "Looked at: 38400/50000 samples\n",
      "Looked at: 40000/50000 samples\n",
      "Looked at: 41600/50000 samples\n",
      "Looked at: 43200/50000 samples\n",
      "Looked at: 44800/50000 samples\n",
      "Looked at: 46400/50000 samples\n",
      "Looked at: 48000/50000 samples\n",
      "Looked at: 49600/50000 samples\n",
      "Epoch: 2, train loss: 2.003567164196968, train acc: 0.25456%, test loss:2.012385226047039, test acc: 0.3544%\n",
      "Looked at: 0/50000 samples\n",
      "Looked at: 1600/50000 samples\n",
      "Looked at: 3200/50000 samples\n",
      "Looked at: 4800/50000 samples\n",
      "Looked at: 6400/50000 samples\n",
      "Looked at: 8000/50000 samples\n",
      "Looked at: 9600/50000 samples\n",
      "Looked at: 11200/50000 samples\n",
      "Looked at: 12800/50000 samples\n",
      "Looked at: 14400/50000 samples\n",
      "Looked at: 16000/50000 samples\n",
      "Looked at: 17600/50000 samples\n",
      "Looked at: 19200/50000 samples\n",
      "Looked at: 20800/50000 samples\n",
      "Looked at: 22400/50000 samples\n",
      "Looked at: 24000/50000 samples\n",
      "Looked at: 25600/50000 samples\n",
      "Looked at: 27200/50000 samples\n",
      "Looked at: 28800/50000 samples\n",
      "Looked at: 30400/50000 samples\n",
      "Looked at: 32000/50000 samples\n",
      "Looked at: 33600/50000 samples\n",
      "Looked at: 35200/50000 samples\n",
      "Looked at: 36800/50000 samples\n",
      "Looked at: 38400/50000 samples\n",
      "Looked at: 40000/50000 samples\n",
      "Looked at: 41600/50000 samples\n",
      "Looked at: 43200/50000 samples\n",
      "Looked at: 44800/50000 samples\n",
      "Looked at: 46400/50000 samples\n",
      "Looked at: 48000/50000 samples\n",
      "Looked at: 49600/50000 samples\n",
      "Epoch: 3, train loss: 1.7640526344251632, train acc: 0.3551%, test loss:1.5082179898023604, test acc: 0.4762%\n",
      "Looked at: 0/50000 samples\n",
      "Looked at: 1600/50000 samples\n",
      "Looked at: 3200/50000 samples\n",
      "Looked at: 4800/50000 samples\n",
      "Looked at: 6400/50000 samples\n",
      "Looked at: 8000/50000 samples\n",
      "Looked at: 9600/50000 samples\n",
      "Looked at: 11200/50000 samples\n",
      "Looked at: 12800/50000 samples\n",
      "Looked at: 14400/50000 samples\n",
      "Looked at: 16000/50000 samples\n",
      "Looked at: 17600/50000 samples\n",
      "Looked at: 19200/50000 samples\n",
      "Looked at: 20800/50000 samples\n",
      "Looked at: 22400/50000 samples\n",
      "Looked at: 24000/50000 samples\n",
      "Looked at: 25600/50000 samples\n",
      "Looked at: 27200/50000 samples\n",
      "Looked at: 28800/50000 samples\n",
      "Looked at: 30400/50000 samples\n",
      "Looked at: 32000/50000 samples\n",
      "Looked at: 33600/50000 samples\n",
      "Looked at: 35200/50000 samples\n",
      "Looked at: 36800/50000 samples\n",
      "Looked at: 38400/50000 samples\n",
      "Looked at: 40000/50000 samples\n",
      "Looked at: 41600/50000 samples\n",
      "Looked at: 43200/50000 samples\n",
      "Looked at: 44800/50000 samples\n",
      "Looked at: 46400/50000 samples\n",
      "Looked at: 48000/50000 samples\n",
      "Looked at: 49600/50000 samples\n",
      "Epoch: 4, train loss: 1.5708021169161797, train acc: 0.43358%, test loss:1.355500978244841, test acc: 0.5184%\n",
      "Looked at: 0/50000 samples\n",
      "Looked at: 1600/50000 samples\n",
      "Looked at: 3200/50000 samples\n",
      "Looked at: 4800/50000 samples\n",
      "Looked at: 6400/50000 samples\n",
      "Looked at: 8000/50000 samples\n",
      "Looked at: 9600/50000 samples\n",
      "Looked at: 11200/50000 samples\n",
      "Looked at: 12800/50000 samples\n",
      "Looked at: 14400/50000 samples\n",
      "Looked at: 16000/50000 samples\n",
      "Looked at: 17600/50000 samples\n",
      "Looked at: 19200/50000 samples\n",
      "Looked at: 20800/50000 samples\n",
      "Looked at: 22400/50000 samples\n",
      "Looked at: 24000/50000 samples\n",
      "Looked at: 25600/50000 samples\n",
      "Looked at: 27200/50000 samples\n",
      "Looked at: 28800/50000 samples\n",
      "Looked at: 30400/50000 samples\n",
      "Looked at: 32000/50000 samples\n",
      "Looked at: 33600/50000 samples\n",
      "Looked at: 35200/50000 samples\n",
      "Looked at: 36800/50000 samples\n",
      "Looked at: 38400/50000 samples\n",
      "Looked at: 40000/50000 samples\n",
      "Looked at: 41600/50000 samples\n",
      "Looked at: 43200/50000 samples\n",
      "Looked at: 44800/50000 samples\n",
      "Looked at: 46400/50000 samples\n",
      "Looked at: 48000/50000 samples\n",
      "Looked at: 49600/50000 samples\n",
      "Epoch: 5, train loss: 1.4463164166295528, train acc: 0.48422%, test loss:1.8251417308498175, test acc: 0.5089%\n",
      "Train time: 3157.323086199991\n"
     ]
    }
   ],
   "source": [
    "EPOCHS=5\n",
    "from timeit import default_timer as timer\n",
    "start_time = timer()\n",
    "model_results=train(model,train_dataloader,test_dataloader,loss_fn,optimizer,epochs=EPOCHS)\n",
    "end_time=timer()\n",
    "print(f'Train time: {end_time-start_time}')"
   ]
  },
  {
   "cell_type": "code",
   "execution_count": 64,
   "id": "c1658cf2-2257-4595-a23a-cf3d16b2deef",
   "metadata": {},
   "outputs": [
    {
     "data": {
      "application/vnd.jupyter.widget-view+json": {
       "model_id": "372cca90e2714a8faa8f91fa2825504b",
       "version_major": 2,
       "version_minor": 0
      },
      "text/plain": [
       "  0%|          | 0/2500 [00:48<?, ?it/s]"
      ]
     },
     "metadata": {},
     "output_type": "display_data"
    }
   ],
   "source": [
    "y_preds=[]\n",
    "model.eval()\n",
    "with torch.inference_mode():\n",
    "    for X,y in tqdm(test_dataloader):\n",
    "        X,y=X.to(device),y.to(device)\n",
    "        y_logits=model(X)\n",
    "        y_prob=torch.softmax(y_logits,dim=1)\n",
    "        y_pred=torch.argmax(y_prob,dim=1)\n",
    "        y_preds.append(y_pred.cpu())\n",
    "\n",
    "y_pred_tensor = torch.cat(y_preds)\n",
    "        "
   ]
  },
  {
   "cell_type": "code",
   "execution_count": 65,
   "id": "33a9934f-b4e8-4e88-a9c7-8e7e4fa08874",
   "metadata": {},
   "outputs": [
    {
     "data": {
      "image/png": "[encoded data removed]",
      "text/plain": [
       "<Figure size 1000x700 with 1 Axes>"
      ]
     },
     "metadata": {},
     "output_type": "display_data"
    }
   ],
   "source": [
    "import mlxtend\n",
    "from torchmetrics import ConfusionMatrix\n",
    "from mlxtend.plotting import plot_confusion_matrix\n",
    "\n",
    "confmat = ConfusionMatrix(num_classes=len(class_names),task='multiclass')\n",
    "confmat_tensor = confmat(preds=y_pred_tensor,\n",
    "                         target=torch.tensor(test_data.targets))\n",
    "\n",
    "fix,ax=plot_confusion_matrix(conf_mat=confmat_tensor.numpy(),\n",
    "                             class_names=class_names,\n",
    "                             figsize=(10,7));"
   ]
  },
  {
   "cell_type": "code",
   "execution_count": 66,
   "id": "2d3a2a35-1a47-49a3-82a8-2c02c7841189",
   "metadata": {},
   "outputs": [],
   "source": [
    "import cv2\n",
    "sample_image_path_1='data/CIFAR10/CIFAR-10-dataset-main/test/airplane/aeroplane_s_000002.png'\n",
    "sample_image_1 = cv2.imread(sample_image_path_1)"
   ]
  },
  {
   "cell_type": "code",
   "execution_count": 67,
   "id": "253d26b0-9e5f-4094-a7d3-cc7bdc74878d",
   "metadata": {},
   "outputs": [
    {
     "name": "stdout",
     "output_type": "stream",
     "text": [
      "torch.Size([3, 32, 32]) torch.float32\n"
     ]
    }
   ],
   "source": [
    "sample_image_1=data_transform(sample_image_1)\n",
    "print(sample_image_1.shape, sample_image_1.dtype)"
   ]
  },
  {
   "cell_type": "code",
   "execution_count": 68,
   "id": "3e04b63f-c35a-445d-bf90-1cba771e2e28",
   "metadata": {},
   "outputs": [],
   "source": [
    "model.eval()\n",
    "with torch.inference_mode():\n",
    "    sample_image_1_pred=model(sample_image_1.unsqueeze(dim=0).to(device))"
   ]
  },
  {
   "cell_type": "code",
   "execution_count": 69,
   "id": "bd5502f4-340f-477d-9638-ca85552a962a",
   "metadata": {},
   "outputs": [
    {
     "name": "stdout",
     "output_type": "stream",
     "text": [
      "Prediction:truck\n"
     ]
    }
   ],
   "source": [
    "sample_image_1_prob=torch.softmax(sample_image_1_pred,dim=1)\n",
    "sample_image_1_label=torch.argmax(sample_image_1_prob,dim=1)\n",
    "print(f'Prediction:{class_names[sample_image_1_label.cpu()]}')"
   ]
  },
  {
   "cell_type": "code",
   "execution_count": 70,
   "id": "c708bbaa-b359-4a92-929c-a58bf4e231b4",
   "metadata": {},
   "outputs": [],
   "source": [
    "sample_image_path_2='data/CIFAR10/CIFAR-10-dataset-main/test/truck/aerial_ladder_truck_s_000002.png'\n",
    "sample_image_2=cv2.imread(sample_image_path_2)"
   ]
  },
  {
   "cell_type": "code",
   "execution_count": 71,
   "id": "59f7392d-6b5b-488e-adc6-5e851dc3b03f",
   "metadata": {},
   "outputs": [],
   "source": [
    "sample_image_2=data_transform(sample_image_2)\n",
    "model.eval()\n",
    "with torch.inference_mode():\n",
    "    sample_image_2_pred=model(sample_image_2.unsqueeze(dim=0).to(device))"
   ]
  },
  {
   "cell_type": "code",
   "execution_count": 72,
   "id": "620d1907-f700-4b87-a3c2-3c472e53437e",
   "metadata": {},
   "outputs": [
    {
     "name": "stdout",
     "output_type": "stream",
     "text": [
      "Prediction: automobile\n"
     ]
    }
   ],
   "source": [
    "sample_image_2_prob=torch.softmax(sample_image_2_pred,dim=1)\n",
    "sample_image_2_label=torch.argmax(sample_image_2_prob,dim=1)\n",
    "print(f'Prediction: {class_names[sample_image_2_label.cpu()]}')"
   ]
  },
  {
   "cell_type": "code",
   "execution_count": null,
   "id": "07132c4b-58f8-4bbd-871f-d4cb0d316da7",
   "metadata": {},
   "outputs": [],
   "source": []
  }
 ],
 "metadata": {
  "kernelspec": {
   "display_name": "Python [conda env:base] *",
   "language": "python",
   "name": "conda-base-py"
  },
  "language_info": {
   "codemirror_mode": {
    "name": "ipython",
    "version": 3
   },
   "file_extension": ".py",
   "mimetype": "text/x-python",
   "name": "python",
   "nbconvert_exporter": "python",
   "pygments_lexer": "ipython3",
   "version": "3.12.3"
  }
 },
 "nbformat": 4,
 "nbformat_minor": 5
}
