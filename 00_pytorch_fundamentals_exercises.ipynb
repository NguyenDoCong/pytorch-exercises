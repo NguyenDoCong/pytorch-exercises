{
 "cells": [
  {
   "cell_type": "markdown",
   "metadata": {
    "id": "AzDBM_v4iMe7"
   },
   "source": [
    "# 00. PyTorch Fundamentals Exercises\n",
    "\n",
    "### 1. Documentation reading \n",
    "\n",
    "A big part of deep learning (and learning to code in general) is getting familiar with the documentation of a certain framework you're using. We'll be using the PyTorch documentation a lot throughout the rest of this course. So I'd recommend spending 10-minutes reading the following (it's okay if you don't get some things for now, the focus is not yet full understanding, it's awareness):\n",
    "  * The documentation on [`torch.Tensor`](https://pytorch.org/docs/stable/tensors.html#torch-tensor).\n",
    "  * The documentation on [`torch.cuda`](https://pytorch.org/docs/master/notes/cuda.html#cuda-semantics).\n",
    "\n"
   ]
  },
  {
   "cell_type": "code",
   "execution_count": 2,
   "metadata": {
    "id": "bGD0oD8Kizak"
   },
   "outputs": [],
   "source": [
    "# No code solution (reading)"
   ]
  },
  {
   "cell_type": "markdown",
   "metadata": {
    "id": "__iXqqz-ioUJ"
   },
   "source": [
    "### 2. Create a random tensor with shape `(7, 7)`.\n"
   ]
  },
  {
   "cell_type": "code",
   "execution_count": 4,
   "metadata": {
    "id": "6pUq9Dc8i2L7"
   },
   "outputs": [],
   "source": [
    "# Import torch\n",
    "import torch\n",
    "\n",
    "# Create random tensor\n",
    "random_tensor = torch.rand(7,5)"
   ]
  },
  {
   "cell_type": "markdown",
   "metadata": {
    "id": "9-XxvRLfiqkR"
   },
   "source": [
    "### 3. Perform a matrix multiplication on the tensor from 2 with another random tensor with shape `(1, 7)` (hint: you may have to transpose the second tensor)."
   ]
  },
  {
   "cell_type": "code",
   "execution_count": 6,
   "metadata": {
    "id": "NcLqR0Sbi_vT"
   },
   "outputs": [
    {
     "data": {
      "text/plain": [
       "tensor([[1.6799, 1.5259, 1.7750, 1.8996, 1.5109],\n",
       "        [1.0146, 0.9146, 1.0991, 1.1696, 0.9263],\n",
       "        [0.7635, 0.7534, 0.7543, 0.9638, 0.9329],\n",
       "        [1.1478, 0.9480, 1.2399, 1.4868, 1.2420],\n",
       "        [0.9152, 0.7730, 0.9835, 0.7736, 0.5566],\n",
       "        [1.1031, 0.9769, 1.2714, 1.5148, 0.9855],\n",
       "        [1.0260, 0.7781, 1.1577, 1.6830, 1.0035]])"
      ]
     },
     "execution_count": 6,
     "metadata": {},
     "output_type": "execute_result"
    }
   ],
   "source": [
    "# Create another random tensor\n",
    "another_random_tensor = torch.rand(5,5)\n",
    "# Perform matrix multiplication \n",
    "torch.matmul(random_tensor,another_random_tensor)"
   ]
  },
  {
   "cell_type": "markdown",
   "metadata": {
    "id": "eiutdKUFiryU"
   },
   "source": [
    "### 4. Set the random seed to `0` and do 2 & 3 over again.\n",
    "\n",
    "The output should be:\n",
    "```\n",
    "(tensor([[1.8542],\n",
    "         [1.9611],\n",
    "         [2.2884],\n",
    "         [3.0481],\n",
    "         [1.7067],\n",
    "         [2.5290],\n",
    "         [1.7989]]), torch.Size([7, 1]))\n",
    "```"
   ]
  },
  {
   "cell_type": "code",
   "execution_count": 33,
   "metadata": {
    "id": "D-lOWI_1jRMm"
   },
   "outputs": [
    {
     "data": {
      "text/plain": [
       "tensor([[0.1496, 0.5601, 0.2688],\n",
       "        [0.3164, 1.2560, 0.7988],\n",
       "        [0.0824, 0.3839, 0.3920]])"
      ]
     },
     "execution_count": 33,
     "metadata": {},
     "output_type": "execute_result"
    }
   ],
   "source": [
    "# Set manual seed\n",
    "RANDOM_SEED = 73\n",
    "torch.manual_seed(seed=RANDOM_SEED)\n",
    "# Create two random tensors\n",
    "random_tensor_one = torch.rand(3,2)\n",
    "torch.manual_seed(seed=RANDOM_SEED)\n",
    "random_seed_two = torch.rand(2,3)\n",
    "random_tensor_two = torch.rand(2,3)\n",
    "# Matrix multiply tensors\n",
    "torch.matmul(random_tensor_one,random_tensor_two)"
   ]
  },
  {
   "cell_type": "markdown",
   "metadata": {
    "id": "ezY6ks9Cis37"
   },
   "source": [
    "### 5. Speaking of random seeds, we saw how to set it with `torch.manual_seed()` but is there a GPU equivalent? (hint: you'll need to look into the documentation for `torch.cuda` for this one)\n",
    "  * If there is, set the GPU random seed to `1234`."
   ]
  },
  {
   "cell_type": "code",
   "execution_count": 37,
   "metadata": {
    "id": "_LKWcfSTjp00"
   },
   "outputs": [],
   "source": [
    "# Set random seed on the GPU\n",
    "torch.cuda.manual_seed(73)"
   ]
  },
  {
   "cell_type": "markdown",
   "metadata": {
    "id": "Ir9qSaj6it4n"
   },
   "source": [
    "\n",
    "### 6. Create two random tensors of shape `(2, 3)` and send them both to the GPU (you'll need access to a GPU for this). Set `torch.manual_seed(1234)` when creating the tensors (this doesn't have to be the GPU random seed). The output should be something like:\n",
    "\n",
    "```\n",
    "Device: cuda\n",
    "(tensor([[0.0290, 0.4019, 0.2598],\n",
    "         [0.3666, 0.0583, 0.7006]], device='cuda:0'),\n",
    " tensor([[0.0518, 0.4681, 0.6738],\n",
    "         [0.3315, 0.7837, 0.5631]], device='cuda:0'))\n",
    "```"
   ]
  },
  {
   "cell_type": "code",
   "execution_count": 41,
   "metadata": {
    "id": "azXExiFZj5nm"
   },
   "outputs": [
    {
     "name": "stdout",
     "output_type": "stream",
     "text": [
      "tensor([[0.5286, 0.1616, 0.8870],\n",
      "        [0.6216, 0.0459, 0.3856]], device='cuda:0')\n",
      "tensor([[0.2258, 0.7837],\n",
      "        [0.2052, 0.1868],\n",
      "        [0.9023, 0.9923]], device='cuda:0')\n"
     ]
    }
   ],
   "source": [
    "# Set random seed\n",
    "torch.manual_seed(73)\n",
    "\n",
    "# Check for access to GPU\n",
    "device = 'cuda' if torch.cuda.is_available() else 'cpu'\n",
    "# Create two random tensors on GPU\n",
    "gpu_tensor_one = torch.rand(2,3).to(device)\n",
    "gpu_tensor_two = torch.rand(3,2).to(device)\n",
    "print(gpu_tensor_one)\n",
    "print(gpu_tensor_two)"
   ]
  },
  {
   "cell_type": "markdown",
   "metadata": {
    "id": "5TlAxeiSiu1y"
   },
   "source": [
    "\n",
    "### 7. Perform a matrix multiplication on the tensors you created in 6 (again, you may have to adjust the shapes of one of the tensors).\n",
    "\n",
    "The output should look like:\n",
    "```\n",
    "(tensor([[0.3647, 0.4709],\n",
    "         [0.5184, 0.5617]], device='cuda:0'), torch.Size([2, 2]))\n",
    "```"
   ]
  },
  {
   "cell_type": "code",
   "execution_count": 55,
   "metadata": {
    "id": "fAeG7ox0lHEO"
   },
   "outputs": [
    {
     "data": {
      "text/plain": [
       "(tensor([[0.9528, 1.3246],\n",
       "         [0.4977, 0.8783]], device='cuda:0'),\n",
       " torch.Size([2, 2]))"
      ]
     },
     "execution_count": 55,
     "metadata": {},
     "output_type": "execute_result"
    }
   ],
   "source": [
    "# Perform matmul on tensor_A and tensor_B\n",
    "result = torch.matmul(gpu_tensor_one,gpu_tensor_two)\n",
    "result, result.shape"
   ]
  },
  {
   "cell_type": "markdown",
   "metadata": {
    "id": "G7qfa5CSivwg"
   },
   "source": [
    "### 8. Find the maximum and minimum values of the output of 7."
   ]
  },
  {
   "cell_type": "code",
   "execution_count": 49,
   "metadata": {
    "id": "Fu8_3mZpllOd"
   },
   "outputs": [
    {
     "name": "stdout",
     "output_type": "stream",
     "text": [
      "Max: 1.3246104717254639\n",
      "Min: 0.49770379066467285\n"
     ]
    }
   ],
   "source": [
    "# Find max\n",
    "print(f'Max: {result.max()}')\n",
    "# Find min\n",
    "print(f'Min: {result.min()}')"
   ]
  },
  {
   "cell_type": "markdown",
   "metadata": {
    "id": "wrTj5FgNiw47"
   },
   "source": [
    "### 9. Find the maximum and minimum index values of the output of 7."
   ]
  },
  {
   "cell_type": "code",
   "execution_count": 53,
   "metadata": {
    "id": "CCEKt4K2lsfQ"
   },
   "outputs": [
    {
     "name": "stdout",
     "output_type": "stream",
     "text": [
      "Max index: 1\n",
      "Min index: 2\n"
     ]
    }
   ],
   "source": [
    "# Find arg max\n",
    "print(f'Max index: {result.argmax()}')\n",
    "\n",
    "# Find arg min\n",
    "print(f'Min index: {result.argmin()}')"
   ]
  },
  {
   "cell_type": "markdown",
   "metadata": {
    "id": "hmeybz4uixy7"
   },
   "source": [
    "\n",
    "### 10. Make a random tensor with shape `(1, 1, 1, 10)` and then create a new tensor with all the `1` dimensions removed to be left with a tensor of shape `(10)`. Set the seed to `7` when you create it and print out the first tensor and it's shape as well as the second tensor and it's shape.\n",
    "\n",
    "The output should look like:\n",
    "\n",
    "```\n",
    "tensor([[[[0.5349, 0.1988, 0.6592, 0.6569, 0.2328, 0.4251, 0.2071, 0.6297,\n",
    "           0.3653, 0.8513]]]]) torch.Size([1, 1, 1, 10])\n",
    "tensor([0.5349, 0.1988, 0.6592, 0.6569, 0.2328, 0.4251, 0.2071, 0.6297, 0.3653,\n",
    "        0.8513]) torch.Size([10])\n",
    "```"
   ]
  },
  {
   "cell_type": "code",
   "execution_count": 61,
   "metadata": {
    "id": "TQ9zbRzVl1jV"
   },
   "outputs": [
    {
     "data": {
      "text/plain": [
       "(tensor([[[[0.5286, 0.1616, 0.8870, 0.6216, 0.0459, 0.3856, 0.2258, 0.7837,\n",
       "            0.2052, 0.1868]]]]),\n",
       " torch.Size([1, 1, 1, 10]),\n",
       " tensor([0.5286, 0.1616, 0.8870, 0.6216, 0.0459, 0.3856, 0.2258, 0.7837, 0.2052,\n",
       "         0.1868]),\n",
       " torch.Size([10]))"
      ]
     },
     "execution_count": 61,
     "metadata": {},
     "output_type": "execute_result"
    }
   ],
   "source": [
    "# Set seed\n",
    "torch.manual_seed(73)\n",
    "\n",
    "# Create random tensor\n",
    "random_tensor = torch.rand(1,1,1,10)\n",
    "\n",
    "# Remove single dimensions\n",
    "squeezed = random_tensor.squeeze()\n",
    "\n",
    "# Print out tensors and their shapes\n",
    "random_tensor, random_tensor.shape, squeezed, squeezed.shape"
   ]
  },
  {
   "cell_type": "code",
   "execution_count": null,
   "metadata": {},
   "outputs": [],
   "source": []
  }
 ],
 "metadata": {
  "accelerator": "GPU",
  "colab": {
   "collapsed_sections": [],
   "name": "00_pytorch_fundamentals_exercises.ipynb",
   "provenance": []
  },
  "kernelspec": {
   "display_name": "Python [conda env:base] *",
   "language": "python",
   "name": "conda-base-py"
  },
  "language_info": {
   "codemirror_mode": {
    "name": "ipython",
    "version": 3
   },
   "file_extension": ".py",
   "mimetype": "text/x-python",
   "name": "python",
   "nbconvert_exporter": "python",
   "pygments_lexer": "ipython3",
   "version": "3.12.7"
  }
 },
 "nbformat": 4,
 "nbformat_minor": 4
}
